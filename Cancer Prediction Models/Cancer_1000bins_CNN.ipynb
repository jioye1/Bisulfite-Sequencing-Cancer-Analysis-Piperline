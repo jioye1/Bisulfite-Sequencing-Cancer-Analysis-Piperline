{
 "cells": [
  {
   "cell_type": "code",
   "execution_count": 18,
   "id": "7be75130-ca22-4123-a904-40ad06373ffe",
   "metadata": {},
   "outputs": [
    {
     "name": "stdout",
     "output_type": "stream",
     "text": [
      "Data normalization and preparation completed.\n",
      "Features shape: (517, 1000), Labels shape: (517,)\n"
     ]
    }
   ],
   "source": [
    "import os\n",
    "import pandas as pd\n",
    "import numpy as np\n",
    "\n",
    "# Paths to data\n",
    "data_folder = r\"C:\\Users\\sejac\\Desktop\\csv_labels\"\n",
    "top_bins_path = r\"C:\\Users\\sejac\\Desktop\\top_1000_bins_u_test.csv\"\n",
    "\n",
    "# Function to calculate z-scores with special handling for zero entries\n",
    "def calculate_z_scores(data):\n",
    "    # Exclude zeros when calculating mean and standard deviation\n",
    "    non_zero_data = data[data != 0]\n",
    "    mean = non_zero_data.mean()\n",
    "    std = non_zero_data.std()\n",
    "\n",
    "    # Avoid division by zero in case all non-zero values are the same\n",
    "    if std == 0:\n",
    "        return np.zeros_like(data)  # Return all zeros if standard deviation is zero\n",
    "\n",
    "    # Calculate z-scores for non-zero values\n",
    "    z_scores = (data - mean) / std\n",
    "    z_scores[data == 0] = 0  # Keep zeros as zero\n",
    "    return z_scores\n",
    "\n",
    "# Load top 1000 bins\n",
    "top_bins = pd.read_csv(top_bins_path)['Bin_ID']\n",
    "\n",
    "# Initialize list to store all patients' data\n",
    "all_patients_data = []\n",
    "\n",
    "# Loop through all patient files\n",
    "for filename in os.listdir(data_folder):\n",
    "    if filename.endswith(\".csv\"):\n",
    "        # Determine cancer label from filename\n",
    "        if \"_0_\" in filename:\n",
    "            label = 0  # Non-cancer\n",
    "        elif \"_1_\" in filename:\n",
    "            label = 1  # Cancer\n",
    "        else:\n",
    "            raise ValueError(f\"Unexpected filename format: {filename}\")\n",
    "        \n",
    "        # Load patient data\n",
    "        file_path = os.path.join(data_folder, filename)\n",
    "        patient_data = pd.read_csv(file_path)\n",
    "        \n",
    "        # Create unique Bin_ID (Chromosome + Start)\n",
    "        patient_data['Bin_ID'] = patient_data['Chromosome'] + \":\" + patient_data['Start'].astype(str)\n",
    "        \n",
    "        # Filter for top bins\n",
    "        patient_data = patient_data[patient_data['Bin_ID'].isin(top_bins)]\n",
    "        \n",
    "        # Ensure consistent data length (after filtering for top bins)\n",
    "        if len(patient_data) != len(top_bins):\n",
    "            print(f\"Inconsistent data length for {filename}. Skipping.\")\n",
    "            continue\n",
    "        \n",
    "        # Normalize Percent_Methylation using z-scores\n",
    "        normalized_methylation = calculate_z_scores(patient_data['Percent_Methylation'].values)\n",
    "        patient_data['Percent_Methylation'] = normalized_methylation\n",
    "        \n",
    "        # Set Bin_ID as the index for easier merging later\n",
    "        patient_data = patient_data.set_index('Bin_ID')['Percent_Methylation']\n",
    "        \n",
    "        # Add label and patient identifier\n",
    "        patient_data = patient_data.to_frame(name=filename).T  # Transpose for merging\n",
    "        patient_data['Label'] = label  # Add label column\n",
    "        \n",
    "        # Append to list\n",
    "        all_patients_data.append(patient_data)\n",
    "\n",
    "# Combine all patient data into a single DataFrame\n",
    "final_data = pd.concat(all_patients_data).reset_index(drop=True)\n",
    "\n",
    "# Extract labels\n",
    "labels = final_data['Label']\n",
    "features = final_data.drop('Label', axis=1)\n",
    "\n",
    "# Fill missing values with column mean (optional, but unlikely needed after z-normalization)\n",
    "features.fillna(features.mean(), inplace=True)\n",
    "\n",
    "print(\"Data normalization and preparation completed.\")\n",
    "print(f\"Features shape: {features.shape}, Labels shape: {labels.shape}\")\n"
   ]
  },
  {
   "cell_type": "code",
   "execution_count": 19,
   "id": "c24233b9-a9a7-426c-9ee5-31f4f4aa545d",
   "metadata": {},
   "outputs": [
    {
     "name": "stdout",
     "output_type": "stream",
     "text": [
      "Features shape: (517, 1000)\n",
      "Labels shape: (517,)\n",
      "Sample labels: 0    0\n",
      "1    0\n",
      "2    0\n",
      "3    1\n",
      "4    0\n",
      "Name: Label, dtype: int64\n"
     ]
    }
   ],
   "source": [
    "print(f\"Features shape: {features.shape}\")  # Should be (num_patients, 1000)\n",
    "print(f\"Labels shape: {labels.shape}\")      # Should match the number of patients\n",
    "print(f\"Sample labels: {labels.head()}\")    # Verify label values"
   ]
  },
  {
   "cell_type": "code",
   "execution_count": 20,
   "id": "b8bd8d7d-8a5e-46b4-b8e6-233db6898146",
   "metadata": {},
   "outputs": [
    {
     "name": "stdout",
     "output_type": "stream",
     "text": [
      "(517, 1000)\n",
      "(517,)\n"
     ]
    }
   ],
   "source": [
    "import torch\n",
    "import torch.nn as nn\n",
    "import torch.nn.functional as F\n",
    "from torch.utils.data import Dataset, DataLoader, random_split\n",
    "from sklearn.model_selection import train_test_split\n",
    "from sklearn.preprocessing import LabelEncoder\n",
    "\n",
    "# Ensure features and labels are NumPy arrays\n",
    "features = np.array(features) if not isinstance(features, np.ndarray) else features\n",
    "labels = np.array(labels) if not isinstance(labels, np.ndarray) else labels\n",
    "\n",
    "# Validate dimensions\n",
    "print(features.shape)  # Should be (num_patients, num_features)\n",
    "print(labels.shape)    # Should be (num_patients,)\n",
    "\n",
    "# Split data into training, validation, and test sets\n",
    "X_train, X_test, y_train, y_test = train_test_split(features, labels, test_size=0.2, random_state=42)\n",
    "X_train, X_val, y_train, y_val = train_test_split(X_train, y_train, test_size=0.2, random_state=42)\n",
    "\n",
    "# Convert to PyTorch tensors\n",
    "X_train_tensor = torch.tensor(X_train, dtype=torch.float32)\n",
    "y_train_tensor = torch.tensor(y_train, dtype=torch.long)\n",
    "X_val_tensor = torch.tensor(X_val, dtype=torch.float32)\n",
    "y_val_tensor = torch.tensor(y_val, dtype=torch.long)\n",
    "X_test_tensor = torch.tensor(X_test, dtype=torch.float32)\n",
    "y_test_tensor = torch.tensor(y_test, dtype=torch.long)\n",
    "\n",
    "# Create DataLoaders\n",
    "train_dataset = TensorDataset(X_train_tensor, y_train_tensor)\n",
    "val_dataset = TensorDataset(X_val_tensor, y_val_tensor)\n",
    "test_dataset = TensorDataset(X_test_tensor, y_test_tensor)\n",
    "\n",
    "train_loader = DataLoader(train_dataset, batch_size=32, shuffle=True)\n",
    "val_loader = DataLoader(val_dataset, batch_size=32, shuffle=False)\n",
    "test_loader = DataLoader(test_dataset, batch_size=32, shuffle=False)"
   ]
  },
  {
   "cell_type": "code",
   "execution_count": 21,
   "id": "adaf04c9-2192-4634-914b-478dddb775ea",
   "metadata": {},
   "outputs": [],
   "source": [
    "class CancerClassifierCNN(nn.Module):\n",
    "    def __init__(self, input_size):\n",
    "        super(CancerClassifierCNN, self).__init__()\n",
    "        self.conv1 = nn.Conv1d(1, 16, kernel_size=3, padding=1)\n",
    "        self.bn1 = nn.BatchNorm1d(16)\n",
    "        self.conv2 = nn.Conv1d(16, 32, kernel_size=3, padding=1)\n",
    "        self.bn2 = nn.BatchNorm1d(32)\n",
    "        self.pool = nn.MaxPool1d(2)\n",
    "        self.dropout = nn.Dropout(0.5)\n",
    "        self.fc1 = nn.Linear(32 * (input_size // 4), 64)\n",
    "        self.fc2 = nn.Linear(64, 2)\n",
    "\n",
    "    def forward(self, x):\n",
    "        x = x.unsqueeze(1)  # Add channel dimension: (batch_size, 1, input_size)\n",
    "        x = self.pool(F.relu(self.bn1(self.conv1(x))))\n",
    "        x = self.pool(F.relu(self.bn2(self.conv2(x))))\n",
    "        x = x.view(x.size(0), -1)  # Flatten\n",
    "        x = self.dropout(F.relu(self.fc1(x)))\n",
    "        x = self.fc2(x)\n",
    "        return x\n"
   ]
  },
  {
   "cell_type": "code",
   "execution_count": 22,
   "id": "315f37a0-c69e-45c8-8bed-e2965072e0ea",
   "metadata": {},
   "outputs": [],
   "source": [
    "# Initialize Model, Loss, and Optimizer\n",
    "input_size = X_train.shape[1]\n",
    "model = CancerClassifierCNN(input_size=input_size)\n",
    "criterion = nn.CrossEntropyLoss()\n",
    "optimizer = torch.optim.Adam(model.parameters(), lr=0.001, weight_decay=1e-4)\n",
    "\n"
   ]
  },
  {
   "cell_type": "code",
   "execution_count": 23,
   "id": "5a126026-99b0-4855-8dfe-289750de417d",
   "metadata": {},
   "outputs": [
    {
     "name": "stdout",
     "output_type": "stream",
     "text": [
      "Epoch 1/30, Train Loss: 0.9999, Val Loss: 0.6779\n",
      "Epoch 2/30, Train Loss: 0.6676, Val Loss: 0.7065\n",
      "Epoch 3/30, Train Loss: 0.6238, Val Loss: 0.6750\n",
      "Epoch 4/30, Train Loss: 0.5696, Val Loss: 0.6236\n",
      "Epoch 5/30, Train Loss: 0.5358, Val Loss: 0.6128\n",
      "Epoch 6/30, Train Loss: 0.4778, Val Loss: 0.6049\n",
      "Epoch 7/30, Train Loss: 0.4168, Val Loss: 0.6008\n",
      "Epoch 8/30, Train Loss: 0.3883, Val Loss: 0.6196\n",
      "Epoch 9/30, Train Loss: 0.3462, Val Loss: 0.6258\n",
      "Epoch 10/30, Train Loss: 0.2395, Val Loss: 0.6373\n",
      "Epoch 11/30, Train Loss: 0.2070, Val Loss: 0.6331\n",
      "Epoch 12/30, Train Loss: 0.2014, Val Loss: 0.6648\n",
      "Early stopping triggered!\n"
     ]
    },
    {
     "data": {
      "text/plain": [
       "<All keys matched successfully>"
      ]
     },
     "execution_count": 23,
     "metadata": {},
     "output_type": "execute_result"
    }
   ],
   "source": [
    "# Training with Early Stopping\n",
    "num_epochs = 30\n",
    "patience = 5\n",
    "min_val_loss = float('inf')\n",
    "epochs_no_improve = 0\n",
    "\n",
    "for epoch in range(num_epochs):\n",
    "    model.train()\n",
    "    train_loss = 0.0\n",
    "    for inputs, labels in train_loader:\n",
    "        optimizer.zero_grad()\n",
    "        outputs = model(inputs)\n",
    "        loss = criterion(outputs, labels)\n",
    "        loss.backward()\n",
    "        optimizer.step()\n",
    "        train_loss += loss.item()\n",
    "\n",
    "    # Validation Step\n",
    "    model.eval()\n",
    "    val_loss = 0.0\n",
    "    with torch.no_grad():\n",
    "        for inputs, labels in val_loader:\n",
    "            outputs = model(inputs)\n",
    "            loss = criterion(outputs, labels)\n",
    "            val_loss += loss.item()\n",
    "\n",
    "    train_loss /= len(train_loader)\n",
    "    val_loss /= len(val_loader)\n",
    "\n",
    "    print(f\"Epoch {epoch + 1}/{num_epochs}, Train Loss: {train_loss:.4f}, Val Loss: {val_loss:.4f}\")\n",
    "\n",
    "    # Early Stopping Check\n",
    "    if val_loss < min_val_loss:\n",
    "        min_val_loss = val_loss\n",
    "        best_model = model.state_dict()\n",
    "        epochs_no_improve = 0\n",
    "    else:\n",
    "        epochs_no_improve += 1\n",
    "        if epochs_no_improve >= patience:\n",
    "            print(\"Early stopping triggered!\")\n",
    "            break\n",
    "\n",
    "# Load the Best Model\n",
    "model.load_state_dict(best_model)\n"
   ]
  },
  {
   "cell_type": "code",
   "execution_count": 24,
   "id": "77511936-a24a-46c1-9eb1-6e2e36dd00b4",
   "metadata": {},
   "outputs": [
    {
     "name": "stdout",
     "output_type": "stream",
     "text": [
      "Test Accuracy: 0.7885\n",
      "ROC-AUC Score: 0.8488\n"
     ]
    }
   ],
   "source": [
    "# Test Evaluation\n",
    "model.eval()\n",
    "y_true = []\n",
    "y_pred = []\n",
    "y_proba = []\n",
    "\n",
    "with torch.no_grad():\n",
    "    for inputs, labels in test_loader:\n",
    "        outputs = model(inputs)\n",
    "        probs = F.softmax(outputs, dim=1)[:, 1]\n",
    "        preds = torch.argmax(outputs, dim=1)\n",
    "        y_true.extend(labels.tolist())\n",
    "        y_pred.extend(preds.tolist())\n",
    "        y_proba.extend(probs.tolist())\n",
    "\n",
    "# Metrics\n",
    "test_accuracy = accuracy_score(y_true, y_pred)\n",
    "roc_auc = roc_auc_score(y_true, y_proba)\n",
    "print(f\"Test Accuracy: {test_accuracy:.4f}\")\n",
    "print(f\"ROC-AUC Score: {roc_auc:.4f}\")\n"
   ]
  },
  {
   "cell_type": "code",
   "execution_count": 25,
   "id": "8b2276b5-3ebf-4893-9f4a-633135b7534d",
   "metadata": {},
   "outputs": [
    {
     "data": {
      "image/png": "[encoded data removed]",
      "text/plain": [
       "<Figure size 800x600 with 1 Axes>"
      ]
     },
     "metadata": {},
     "output_type": "display_data"
    }
   ],
   "source": [
    "# Plot ROC Curve\n",
    "fpr, tpr, thresholds = roc_curve(y_true, y_proba)\n",
    "plt.figure(figsize=(8, 6))\n",
    "plt.plot(fpr, tpr, label=f'ROC Curve (AUC = {roc_auc:.2f})')\n",
    "plt.plot([0, 1], [0, 1], 'k--', label='Random Classifier')\n",
    "plt.xlabel('False Positive Rate')\n",
    "plt.ylabel('True Positive Rate')\n",
    "plt.title('ROC Curve for CNN')\n",
    "plt.legend(loc='lower right')\n",
    "plt.grid()\n",
    "plt.show()\n"
   ]
  },
  {
   "cell_type": "code",
   "execution_count": null,
   "id": "4779975a-b7af-430d-8adb-3b2a93f702fe",
   "metadata": {},
   "outputs": [],
   "source": []
  }
 ],
 "metadata": {
  "kernelspec": {
   "display_name": "Python 3 (ipykernel)",
   "language": "python",
   "name": "python3"
  },
  "language_info": {
   "codemirror_mode": {
    "name": "ipython",
    "version": 3
   },
   "file_extension": ".py",
   "mimetype": "text/x-python",
   "name": "python",
   "nbconvert_exporter": "python",
   "pygments_lexer": "ipython3",
   "version": "3.12.2"
  }
 },
 "nbformat": 4,
 "nbformat_minor": 5
}
