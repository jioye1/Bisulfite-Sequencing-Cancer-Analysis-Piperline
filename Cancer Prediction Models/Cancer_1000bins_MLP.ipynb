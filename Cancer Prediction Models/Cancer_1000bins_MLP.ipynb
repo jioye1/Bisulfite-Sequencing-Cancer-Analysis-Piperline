{
 "cells": [
  {
   "cell_type": "code",
   "execution_count": 1,
   "id": "cbc6c1d6-2720-4ccd-8a4f-bc35d6ff9049",
   "metadata": {},
   "outputs": [
    {
     "name": "stdout",
     "output_type": "stream",
     "text": [
      "Data normalization and preparation completed.\n",
      "Features shape: (517, 1000), Labels shape: (517,)\n"
     ]
    }
   ],
   "source": [
    "import os\n",
    "import pandas as pd\n",
    "import numpy as np\n",
    "\n",
    "# Paths to data\n",
    "data_folder = r\"C:\\Users\\sejac\\Desktop\\csv_labels\"\n",
    "top_bins_path = r\"C:\\Users\\sejac\\Desktop\\top_1000_bins_u_test.csv\"\n",
    "\n",
    "# Function to calculate z-scores with special handling for zero entries\n",
    "def calculate_z_scores(data):\n",
    "    # Exclude zeros when calculating mean and standard deviation\n",
    "    non_zero_data = data[data != 0]\n",
    "    mean = non_zero_data.mean()\n",
    "    std = non_zero_data.std()\n",
    "\n",
    "    # Avoid division by zero in case all non-zero values are the same\n",
    "    if std == 0:\n",
    "        return np.zeros_like(data)  # Return all zeros if standard deviation is zero\n",
    "\n",
    "    # Calculate z-scores for non-zero values\n",
    "    z_scores = (data - mean) / std\n",
    "    z_scores[data == 0] = 0  # Keep zeros as zero\n",
    "    return z_scores\n",
    "\n",
    "# Load top 1000 bins\n",
    "top_bins = pd.read_csv(top_bins_path)['Bin_ID']\n",
    "\n",
    "# Initialize list to store all patients' data\n",
    "all_patients_data = []\n",
    "\n",
    "# Loop through all patient files\n",
    "for filename in os.listdir(data_folder):\n",
    "    if filename.endswith(\".csv\"):\n",
    "        # Determine cancer label from filename\n",
    "        if \"_0_\" in filename:\n",
    "            label = 0  # Non-cancer\n",
    "        elif \"_1_\" in filename:\n",
    "            label = 1  # Cancer\n",
    "        else:\n",
    "            raise ValueError(f\"Unexpected filename format: {filename}\")\n",
    "        \n",
    "        # Load patient data\n",
    "        file_path = os.path.join(data_folder, filename)\n",
    "        patient_data = pd.read_csv(file_path)\n",
    "        \n",
    "        # Create unique Bin_ID (Chromosome + Start)\n",
    "        patient_data['Bin_ID'] = patient_data['Chromosome'] + \":\" + patient_data['Start'].astype(str)\n",
    "        \n",
    "        # Filter for top bins\n",
    "        patient_data = patient_data[patient_data['Bin_ID'].isin(top_bins)]\n",
    "        \n",
    "        # Ensure consistent data length (after filtering for top bins)\n",
    "        if len(patient_data) != len(top_bins):\n",
    "            print(f\"Inconsistent data length for {filename}. Skipping.\")\n",
    "            continue\n",
    "        \n",
    "        # Normalize Percent_Methylation using z-scores\n",
    "        normalized_methylation = calculate_z_scores(patient_data['Percent_Methylation'].values)\n",
    "        patient_data['Percent_Methylation'] = normalized_methylation\n",
    "        \n",
    "        # Set Bin_ID as the index for easier merging later\n",
    "        patient_data = patient_data.set_index('Bin_ID')['Percent_Methylation']\n",
    "        \n",
    "        # Add label and patient identifier\n",
    "        patient_data = patient_data.to_frame(name=filename).T  # Transpose for merging\n",
    "        patient_data['Label'] = label  # Add label column\n",
    "        \n",
    "        # Append to list\n",
    "        all_patients_data.append(patient_data)\n",
    "\n",
    "# Combine all patient data into a single DataFrame\n",
    "final_data = pd.concat(all_patients_data).reset_index(drop=True)\n",
    "\n",
    "# Extract labels\n",
    "labels = final_data['Label']\n",
    "features = final_data.drop('Label', axis=1)\n",
    "\n",
    "# Fill missing values with column mean (optional, but unlikely needed after z-normalization)\n",
    "features.fillna(features.mean(), inplace=True)\n",
    "\n",
    "print(\"Data normalization and preparation completed.\")\n",
    "print(f\"Features shape: {features.shape}, Labels shape: {labels.shape}\")\n"
   ]
  },
  {
   "cell_type": "code",
   "execution_count": 2,
   "id": "b9a9e307-0e22-4363-867f-b9bae330aea2",
   "metadata": {},
   "outputs": [
    {
     "name": "stdout",
     "output_type": "stream",
     "text": [
      "Features shape: (517, 1000)\n",
      "Labels shape: (517,)\n",
      "Sample labels: 0    0\n",
      "1    0\n",
      "2    0\n",
      "3    1\n",
      "4    0\n",
      "Name: Label, dtype: int64\n"
     ]
    }
   ],
   "source": [
    "print(f\"Features shape: {features.shape}\")  # Should be (num_patients, 1000)\n",
    "print(f\"Labels shape: {labels.shape}\")      # Should match the number of patients\n",
    "print(f\"Sample labels: {labels.head()}\")    # Verify label values"
   ]
  },
  {
   "cell_type": "code",
   "execution_count": 3,
   "id": "c7482553-00e2-4d19-93a8-10f4abbcf093",
   "metadata": {},
   "outputs": [],
   "source": [
    "import torch\n",
    "import torch.nn as nn\n",
    "import torch.nn.functional as F\n",
    "from torch.utils.data import DataLoader, TensorDataset, random_split\n",
    "from sklearn.model_selection import train_test_split\n",
    "from sklearn.metrics import accuracy_score, roc_auc_score, roc_curve\n",
    "import matplotlib.pyplot as plt\n",
    "\n",
    "# Convert features and labels to NumPy\n",
    "X = features.values  # Shape: (num_patients, 1000)\n",
    "y = labels.values    # Shape: (num_patients,)\n",
    "\n",
    "# Train-validation-test split\n",
    "X_train, X_test, y_train, y_test = train_test_split(X, y, test_size=0.2, random_state=42)\n",
    "X_train, X_val, y_train, y_val = train_test_split(X_train, y_train, test_size=0.2, random_state=42)\n",
    "\n",
    "# Convert data to PyTorch tensors\n",
    "X_train_tensor = torch.tensor(X_train, dtype=torch.float32)\n",
    "y_train_tensor = torch.tensor(y_train, dtype=torch.long)\n",
    "X_val_tensor = torch.tensor(X_val, dtype=torch.float32)\n",
    "y_val_tensor = torch.tensor(y_val, dtype=torch.long)\n",
    "X_test_tensor = torch.tensor(X_test, dtype=torch.float32)\n",
    "y_test_tensor = torch.tensor(y_test, dtype=torch.long)\n",
    "\n",
    "# Create DataLoaders\n",
    "train_dataset = TensorDataset(X_train_tensor, y_train_tensor)\n",
    "val_dataset = TensorDataset(X_val_tensor, y_val_tensor)\n",
    "test_dataset = TensorDataset(X_test_tensor, y_test_tensor)\n",
    "\n",
    "train_loader = DataLoader(train_dataset, batch_size=32, shuffle=True)\n",
    "val_loader = DataLoader(val_dataset, batch_size=32, shuffle=False)\n",
    "test_loader = DataLoader(test_dataset, batch_size=32, shuffle=False)"
   ]
  },
  {
   "cell_type": "code",
   "execution_count": 4,
   "id": "4b950d31-04e7-403c-bbed-fda7000676d3",
   "metadata": {},
   "outputs": [],
   "source": [
    "# Define the MLP Model\n",
    "class CancerClassifierMLP(nn.Module):\n",
    "    def __init__(self, input_size):\n",
    "        super(CancerClassifierMLP, self).__init__()\n",
    "        self.fc1 = nn.Linear(input_size, 512)\n",
    "        self.bn1 = nn.BatchNorm1d(512)\n",
    "        self.fc2 = nn.Linear(512, 256)\n",
    "        self.bn2 = nn.BatchNorm1d(256)\n",
    "        self.fc3 = nn.Linear(256, 128)\n",
    "        self.bn3 = nn.BatchNorm1d(128)\n",
    "        self.fc4 = nn.Linear(128, 2)\n",
    "        self.dropout = nn.Dropout(0.5)\n",
    "\n",
    "    def forward(self, x):\n",
    "        x = F.relu(self.bn1(self.fc1(x)))\n",
    "        x = self.dropout(x)\n",
    "        x = F.relu(self.bn2(self.fc2(x)))\n",
    "        x = self.dropout(x)\n",
    "        x = F.relu(self.bn3(self.fc3(x)))\n",
    "        x = self.dropout(x)\n",
    "        x = self.fc4(x)\n",
    "        return x\n"
   ]
  },
  {
   "cell_type": "code",
   "execution_count": 5,
   "id": "882216cf-c64a-45bb-b05c-b78197642c88",
   "metadata": {},
   "outputs": [
    {
     "name": "stdout",
     "output_type": "stream",
     "text": [
      "Epoch 1/30, Train Loss: 0.7447, Val Loss: 0.6563\n",
      "Epoch 2/30, Train Loss: 0.5796, Val Loss: 0.6365\n",
      "Epoch 3/30, Train Loss: 0.4708, Val Loss: 0.6478\n",
      "Epoch 4/30, Train Loss: 0.3548, Val Loss: 0.6926\n",
      "Epoch 5/30, Train Loss: 0.2123, Val Loss: 0.7901\n",
      "Epoch 6/30, Train Loss: 0.1882, Val Loss: 0.7863\n",
      "Epoch 7/30, Train Loss: 0.1148, Val Loss: 0.7928\n",
      "Early stopping triggered!\n"
     ]
    }
   ],
   "source": [
    "# Initialize Model, Loss, and Optimizer\n",
    "input_size = X_train.shape[1]\n",
    "model = CancerClassifierMLP(input_size=input_size)\n",
    "criterion = nn.CrossEntropyLoss()\n",
    "optimizer = torch.optim.Adam(model.parameters(), lr=0.001, weight_decay=1e-4)\n",
    "\n",
    "# Training the MLP\n",
    "num_epochs = 30\n",
    "patience = 5\n",
    "min_val_loss = float('inf')\n",
    "epochs_no_improve = 0\n",
    "\n",
    "for epoch in range(num_epochs):\n",
    "    model.train()\n",
    "    train_loss = 0.0\n",
    "    for inputs, labels in train_loader:\n",
    "        optimizer.zero_grad()\n",
    "        outputs = model(inputs)\n",
    "        loss = criterion(outputs, labels)\n",
    "        loss.backward()\n",
    "        optimizer.step()\n",
    "        train_loss += loss.item()\n",
    "\n",
    "    # Validation Step\n",
    "    model.eval()\n",
    "    val_loss = 0.0\n",
    "    with torch.no_grad():\n",
    "        for inputs, labels in val_loader:\n",
    "            outputs = model(inputs)\n",
    "            loss = criterion(outputs, labels)\n",
    "            val_loss += loss.item()\n",
    "\n",
    "    train_loss /= len(train_loader)\n",
    "    val_loss /= len(val_loader)\n",
    "\n",
    "    print(f\"Epoch {epoch + 1}/{num_epochs}, Train Loss: {train_loss:.4f}, Val Loss: {val_loss:.4f}\")\n",
    "\n",
    "    # Early Stopping\n",
    "    if val_loss < min_val_loss:\n",
    "        min_val_loss = val_loss\n",
    "        best_model = model.state_dict()\n",
    "        epochs_no_improve = 0\n",
    "    else:\n",
    "        epochs_no_improve += 1\n",
    "        if epochs_no_improve >= patience:\n",
    "            print(\"Early stopping triggered!\")\n",
    "            break"
   ]
  },
  {
   "cell_type": "code",
   "execution_count": 8,
   "id": "26d88abc-2b5f-451e-81d5-470bef1955b3",
   "metadata": {},
   "outputs": [
    {
     "name": "stdout",
     "output_type": "stream",
     "text": [
      "Test Accuracy: 0.6538\n",
      "ROC-AUC Score: 0.7339\n"
     ]
    }
   ],
   "source": [
    "# Load the Best Model\n",
    "model.load_state_dict(best_model)\n",
    "\n",
    "# Test Evaluation\n",
    "model.eval()\n",
    "y_true = []\n",
    "y_pred = []\n",
    "y_proba = []\n",
    "\n",
    "with torch.no_grad():\n",
    "    for inputs, labels in test_loader:\n",
    "        outputs = model(inputs)\n",
    "        probs = F.softmax(outputs, dim=1)[:, 1]\n",
    "        preds = torch.argmax(outputs, dim=1)\n",
    "        y_true.extend(labels.tolist())\n",
    "        y_pred.extend(preds.tolist())\n",
    "        y_proba.extend(probs.tolist())\n",
    "\n",
    "# Metrics\n",
    "test_accuracy = accuracy_score(y_true, y_pred)\n",
    "roc_auc = roc_auc_score(y_true, y_proba)\n",
    "print(f\"Test Accuracy: {test_accuracy:.4f}\")\n",
    "print(f\"ROC-AUC Score: {roc_auc:.4f}\")"
   ]
  },
  {
   "cell_type": "code",
   "execution_count": 9,
   "id": "3778caac-b565-40e6-87ef-1ab6bbacb8c4",
   "metadata": {},
   "outputs": [
    {
     "data": {
      "image/png": "[encoded data removed]",
      "text/plain": [
       "<Figure size 800x600 with 1 Axes>"
      ]
     },
     "metadata": {},
     "output_type": "display_data"
    }
   ],
   "source": [
    "# Plot ROC Curve\n",
    "fpr, tpr, thresholds = roc_curve(y_true, y_proba)\n",
    "plt.figure(figsize=(8, 6))\n",
    "plt.plot(fpr, tpr, label=f'ROC Curve (AUC = {roc_auc:.2f})')\n",
    "plt.plot([0, 1], [0, 1], 'k--', label='Random Classifier')\n",
    "plt.xlabel('False Positive Rate')\n",
    "plt.ylabel('True Positive Rate')\n",
    "plt.title('ROC Curve for MLP')\n",
    "plt.legend(loc='lower right')\n",
    "plt.grid()\n",
    "plt.show()"
   ]
  }
 ],
 "metadata": {
  "kernelspec": {
   "display_name": "Python 3 (ipykernel)",
   "language": "python",
   "name": "python3"
  },
  "language_info": {
   "codemirror_mode": {
    "name": "ipython",
    "version": 3
   },
   "file_extension": ".py",
   "mimetype": "text/x-python",
   "name": "python",
   "nbconvert_exporter": "python",
   "pygments_lexer": "ipython3",
   "version": "3.12.2"
  }
 },
 "nbformat": 4,
 "nbformat_minor": 5
}
