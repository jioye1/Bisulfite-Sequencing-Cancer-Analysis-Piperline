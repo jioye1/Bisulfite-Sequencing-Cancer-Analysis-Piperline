{
 "cells": [
  {
   "cell_type": "code",
   "execution_count": 1,
   "id": "95ee822c-cc3a-4f79-8793-c9608f880488",
   "metadata": {},
   "outputs": [
    {
     "name": "stdout",
     "output_type": "stream",
     "text": [
      "Data normalization and preparation completed.\n",
      "Features shape: (517, 1000), Labels shape: (517,)\n"
     ]
    }
   ],
   "source": [
    "import os\n",
    "import pandas as pd\n",
    "import numpy as np\n",
    "\n",
    "# Paths to data\n",
    "data_folder = r\"C:\\Users\\sejac\\Desktop\\csv_labels\"\n",
    "top_bins_path = r\"C:\\Users\\sejac\\Desktop\\top_1000_bins_u_test.csv\"\n",
    "\n",
    "# Function to calculate z-scores with special handling for zero entries\n",
    "def calculate_z_scores(data):\n",
    "    # Exclude zeros when calculating mean and standard deviation\n",
    "    non_zero_data = data[data != 0]\n",
    "    mean = non_zero_data.mean()\n",
    "    std = non_zero_data.std()\n",
    "\n",
    "    # Avoid division by zero in case all non-zero values are the same\n",
    "    if std == 0:\n",
    "        return np.zeros_like(data)  # Return all zeros if standard deviation is zero\n",
    "\n",
    "    # Calculate z-scores for non-zero values\n",
    "    z_scores = (data - mean) / std\n",
    "    z_scores[data == 0] = 0  # Keep zeros as zero\n",
    "    return z_scores\n",
    "\n",
    "# Load top 1000 bins\n",
    "top_bins = pd.read_csv(top_bins_path)['Bin_ID']\n",
    "\n",
    "# Initialize list to store all patients' data\n",
    "all_patients_data = []\n",
    "\n",
    "# Loop through all patient files\n",
    "for filename in os.listdir(data_folder):\n",
    "    if filename.endswith(\".csv\"):\n",
    "        # Determine cancer label from filename\n",
    "        if \"_0_\" in filename:\n",
    "            label = 0  # Non-cancer\n",
    "        elif \"_1_\" in filename:\n",
    "            label = 1  # Cancer\n",
    "        else:\n",
    "            raise ValueError(f\"Unexpected filename format: {filename}\")\n",
    "        \n",
    "        # Load patient data\n",
    "        file_path = os.path.join(data_folder, filename)\n",
    "        patient_data = pd.read_csv(file_path)\n",
    "        \n",
    "        # Create unique Bin_ID (Chromosome + Start)\n",
    "        patient_data['Bin_ID'] = patient_data['Chromosome'] + \":\" + patient_data['Start'].astype(str)\n",
    "        \n",
    "        # Filter for top bins\n",
    "        patient_data = patient_data[patient_data['Bin_ID'].isin(top_bins)]\n",
    "        \n",
    "        # Ensure consistent data length (after filtering for top bins)\n",
    "        if len(patient_data) != len(top_bins):\n",
    "            print(f\"Inconsistent data length for {filename}. Skipping.\")\n",
    "            continue\n",
    "        \n",
    "        # Normalize Percent_Methylation using z-scores\n",
    "        normalized_methylation = calculate_z_scores(patient_data['Percent_Methylation'].values)\n",
    "        patient_data['Percent_Methylation'] = normalized_methylation\n",
    "        \n",
    "        # Set Bin_ID as the index for easier merging later\n",
    "        patient_data = patient_data.set_index('Bin_ID')['Percent_Methylation']\n",
    "        \n",
    "        # Add label and patient identifier\n",
    "        patient_data = patient_data.to_frame(name=filename).T  # Transpose for merging\n",
    "        patient_data['Label'] = label  # Add label column\n",
    "        \n",
    "        # Append to list\n",
    "        all_patients_data.append(patient_data)\n",
    "\n",
    "# Combine all patient data into a single DataFrame\n",
    "final_data = pd.concat(all_patients_data).reset_index(drop=True)\n",
    "\n",
    "# Extract labels\n",
    "labels = final_data['Label']\n",
    "features = final_data.drop('Label', axis=1)\n",
    "\n",
    "# Fill missing values with column mean (optional, but unlikely needed after z-normalization)\n",
    "features.fillna(features.mean(), inplace=True)\n",
    "\n",
    "print(\"Data normalization and preparation completed.\")\n",
    "print(f\"Features shape: {features.shape}, Labels shape: {labels.shape}\")\n"
   ]
  },
  {
   "cell_type": "code",
   "execution_count": 2,
   "id": "5a071cd0-996a-4ecd-a9b0-395c6ef64b36",
   "metadata": {},
   "outputs": [
    {
     "name": "stdout",
     "output_type": "stream",
     "text": [
      "Processed Data:\n",
      "Bin_ID  chr1:342892  chr1:374064  chr1:405236  chr1:467580  chr1:623440  \\\n",
      "0         -0.641195     0.566157    -0.428174     0.803137     0.854072   \n",
      "1         -0.740899    -0.332920    -0.065952     0.364117    -0.011822   \n",
      "2         -0.645741    -0.005938    -0.846544     0.655689     1.104502   \n",
      "3         -0.904376    -0.281779     0.608078     0.318778     0.582548   \n",
      "4         -0.754103     0.400059    -0.484299     0.241909     1.017458   \n",
      "..              ...          ...          ...          ...          ...   \n",
      "512        0.489900     0.696943    -0.665982     0.310187     0.134492   \n",
      "513       -0.944036     0.665027    -0.049108     0.292097     0.888963   \n",
      "514       -0.266741     0.696111    -0.086747    -0.383489     1.077754   \n",
      "515       -0.817571    -0.224116     0.429699     1.195515     0.478831   \n",
      "516       -0.208989    -0.443652    -0.666177     0.608502     0.289579   \n",
      "\n",
      "Bin_ID  chr1:654612  chr1:748128  chr1:810472  chr1:1433912  chr1:1558600  \\\n",
      "0          1.212257     0.961714     0.315867      0.347883      1.627650   \n",
      "1          1.150736     1.052035     0.137446     -0.882465      0.681135   \n",
      "2          1.028731     0.975573    -0.835559     -0.083622      1.563255   \n",
      "3          0.067088     0.591330     0.643313      0.092798      1.020198   \n",
      "4          0.047669     1.307313     0.692075     -0.463464      1.059581   \n",
      "..              ...          ...          ...           ...           ...   \n",
      "512        0.757890     0.598116     0.455036     -0.271911     -0.298197   \n",
      "513        0.158001     0.492444    -0.036919      0.002521      1.019951   \n",
      "514        1.187204     1.430461     1.057612     -0.699245      1.003867   \n",
      "515        0.978727     1.560948    -0.617107     -0.410378      0.956211   \n",
      "516        0.155525     0.978283    -0.182913     -0.552984      1.074374   \n",
      "\n",
      "Bin_ID  ...  chrX:82107048  chrX:100779076  chrX:142643072  chrX:149220364  \\\n",
      "0       ...       0.770353        0.502446        1.248754        0.269593   \n",
      "1       ...       0.000000        1.708385        0.807567        0.826941   \n",
      "2       ...       0.083662        0.850857        0.522060        0.737662   \n",
      "3       ...       0.000000        0.200587       -1.886564       -0.077702   \n",
      "4       ...      -0.094581       -0.094581        1.092556        1.497920   \n",
      "..      ...            ...             ...             ...             ...   \n",
      "512     ...       1.213138        1.078134        1.213138        1.559773   \n",
      "513     ...       1.032169        0.347954        0.690061        1.564340   \n",
      "514     ...       0.231350        1.617337       -1.154642       -0.669544   \n",
      "515     ...      -0.445282        0.224841        1.006650        1.006650   \n",
      "516     ...       0.118626        0.790231        1.461841        0.886177   \n",
      "\n",
      "Bin_ID  chrX:151090684  chrX:151994672  chrX:152181704  chrX:152773972  \\\n",
      "0             0.629349        1.489121        0.747057        1.196564   \n",
      "1             1.297486        0.179159       -0.834291        0.385149   \n",
      "2             1.273598        0.702223       -0.579862        1.465026   \n",
      "3             1.022794       -0.239564        0.671218        0.271036   \n",
      "4             1.076403        1.579587        1.338171        0.687639   \n",
      "..                 ...             ...             ...             ...   \n",
      "512           0.976881        0.065599        1.112605       -0.098699   \n",
      "513          -1.020485       -0.828903        0.243831       -1.594345   \n",
      "514          -0.461646        0.212618        0.379847       -0.045849   \n",
      "515           1.077724        0.926170       -0.003185        1.243010   \n",
      "516           0.454428        0.602184        1.151868        0.011167   \n",
      "\n",
      "Bin_ID  chrY:467580  chrY:28678240  \n",
      "0          0.000000            0.0  \n",
      "1          0.330663            0.0  \n",
      "2          0.000000            0.0  \n",
      "3         -1.985954            0.0  \n",
      "4         -0.490294            0.0  \n",
      "..              ...            ...  \n",
      "512        0.000000            0.0  \n",
      "513        0.347954            0.0  \n",
      "514       -2.020883            0.0  \n",
      "515       -1.587531            0.0  \n",
      "516        0.000000            0.0  \n",
      "\n",
      "[517 rows x 1000 columns]\n",
      "Labels:\n",
      "0      0\n",
      "1      0\n",
      "2      0\n",
      "3      1\n",
      "4      0\n",
      "      ..\n",
      "512    0\n",
      "513    0\n",
      "514    0\n",
      "515    0\n",
      "516    1\n",
      "Name: Label, Length: 517, dtype: int64\n"
     ]
    }
   ],
   "source": [
    "# Display dataset\n",
    "print(\"Processed Data:\")\n",
    "print(features)\n",
    "print(\"Labels:\")\n",
    "print(labels)"
   ]
  },
  {
   "cell_type": "code",
   "execution_count": 3,
   "id": "67ebcc5e-a034-4e69-8116-4a41c56c9c72",
   "metadata": {},
   "outputs": [
    {
     "name": "stdout",
     "output_type": "stream",
     "text": [
      "Features shape: (517, 1000)\n",
      "Labels shape: (517,)\n",
      "Sample labels: 0    0\n",
      "1    0\n",
      "2    0\n",
      "3    1\n",
      "4    0\n",
      "Name: Label, dtype: int64\n"
     ]
    }
   ],
   "source": [
    "print(f\"Features shape: {features.shape}\")  # Should be (num_patients, 1000)\n",
    "print(f\"Labels shape: {labels.shape}\")      # Should match the number of patients\n",
    "print(f\"Sample labels: {labels.head()}\")    # Verify label values"
   ]
  },
  {
   "cell_type": "code",
   "execution_count": 5,
   "id": "302815e4-557e-4e1b-bdb7-8b79ce7004c8",
   "metadata": {},
   "outputs": [
    {
     "name": "stdout",
     "output_type": "stream",
     "text": [
      "Training set: (310, 1000)\n",
      "Validation set: (103, 1000)\n",
      "Test set: (104, 1000)\n"
     ]
    }
   ],
   "source": [
    "from sklearn.model_selection import train_test_split\n",
    "from sklearn.metrics import accuracy_score, classification_report, roc_auc_score, roc_curve\n",
    "from xgboost import XGBClassifier\n",
    "import matplotlib.pyplot as plt\n",
    "\n",
    "# Split the data into training (60%), validation (20%), and test (20%) sets\n",
    "X_train, X_temp, y_train, y_temp = train_test_split(features, labels, test_size=0.4, random_state=42)\n",
    "X_val, X_test, y_val, y_test = train_test_split(X_temp, y_temp, test_size=0.5, random_state=42)\n",
    "\n",
    "print(f\"Training set: {X_train.shape}\")\n",
    "print(f\"Validation set: {X_val.shape}\")\n",
    "print(f\"Test set: {X_test.shape}\")\n"
   ]
  },
  {
   "cell_type": "code",
   "execution_count": 14,
   "id": "8aa92352-2401-4bcb-b9a8-1b4c911ce334",
   "metadata": {},
   "outputs": [
    {
     "name": "stdout",
     "output_type": "stream",
     "text": [
      "[0]\tvalidation_0-logloss:0.66459\n",
      "[1]\tvalidation_0-logloss:0.64869\n",
      "[2]\tvalidation_0-logloss:0.63207\n",
      "[3]\tvalidation_0-logloss:0.61833\n",
      "[4]\tvalidation_0-logloss:0.61189\n",
      "[5]\tvalidation_0-logloss:0.60597\n",
      "[6]\tvalidation_0-logloss:0.60392\n",
      "[7]\tvalidation_0-logloss:0.59642\n",
      "[8]\tvalidation_0-logloss:0.59467\n",
      "[9]\tvalidation_0-logloss:0.59264\n",
      "[10]\tvalidation_0-logloss:0.59126\n",
      "[11]\tvalidation_0-logloss:0.58707\n",
      "[12]\tvalidation_0-logloss:0.58794\n",
      "[13]\tvalidation_0-logloss:0.58619\n",
      "[14]\tvalidation_0-logloss:0.57809\n",
      "[15]\tvalidation_0-logloss:0.57510\n",
      "[16]\tvalidation_0-logloss:0.57359\n",
      "[17]\tvalidation_0-logloss:0.57283\n",
      "[18]\tvalidation_0-logloss:0.57814\n",
      "[19]\tvalidation_0-logloss:0.57399\n",
      "[20]\tvalidation_0-logloss:0.57131\n",
      "[21]\tvalidation_0-logloss:0.56765\n",
      "[22]\tvalidation_0-logloss:0.56938\n",
      "[23]\tvalidation_0-logloss:0.56952\n",
      "[24]\tvalidation_0-logloss:0.57201\n",
      "[25]\tvalidation_0-logloss:0.56801\n",
      "[26]\tvalidation_0-logloss:0.56702\n",
      "[27]\tvalidation_0-logloss:0.56540\n",
      "[28]\tvalidation_0-logloss:0.56829\n",
      "[29]\tvalidation_0-logloss:0.56719\n",
      "[30]\tvalidation_0-logloss:0.56860\n",
      "[31]\tvalidation_0-logloss:0.56792\n",
      "[32]\tvalidation_0-logloss:0.57037\n",
      "[33]\tvalidation_0-logloss:0.56997\n",
      "[34]\tvalidation_0-logloss:0.56659\n",
      "[35]\tvalidation_0-logloss:0.56629\n",
      "[36]\tvalidation_0-logloss:0.56486\n",
      "[37]\tvalidation_0-logloss:0.56468\n",
      "[38]\tvalidation_0-logloss:0.56133\n",
      "[39]\tvalidation_0-logloss:0.55899\n",
      "[40]\tvalidation_0-logloss:0.55959\n",
      "[41]\tvalidation_0-logloss:0.56257\n",
      "[42]\tvalidation_0-logloss:0.56326\n",
      "[43]\tvalidation_0-logloss:0.56472\n",
      "[44]\tvalidation_0-logloss:0.56241\n",
      "[45]\tvalidation_0-logloss:0.56108\n",
      "[46]\tvalidation_0-logloss:0.56264\n",
      "[47]\tvalidation_0-logloss:0.56211\n",
      "[48]\tvalidation_0-logloss:0.55948\n",
      "[49]\tvalidation_0-logloss:0.56382\n",
      "Validation Accuracy: 0.7670\n"
     ]
    }
   ],
   "source": [
    "# Initialize the XGBoost classifier with early stopping parameter\n",
    "xgb_model = XGBClassifier(\n",
    "    n_estimators=500,\n",
    "    learning_rate=0.1,\n",
    "    verbosity=1,\n",
    "    random_state=42,\n",
    "    early_stopping_rounds=10  # Specify early stopping directly in the model\n",
    ")\n",
    "\n",
    "# Fit the model\n",
    "xgb_model.fit(\n",
    "    X_train, \n",
    "    y_train,\n",
    "    eval_set=[(X_val, y_val)],  # Validation set for early stopping\n",
    "    verbose=True  # Print training progress\n",
    ")\n",
    "\n",
    "# Predict on validation set\n",
    "y_val_pred = xgb_model.predict(X_val)\n",
    "y_val_proba = xgb_model.predict_proba(X_val)[:, 1]  # For ROC-AUC calculation\n",
    "\n",
    "# Calculate validation accuracy\n",
    "val_accuracy = accuracy_score(y_val, y_val_pred)\n",
    "print(f\"Validation Accuracy: {val_accuracy:.4f}\")\n"
   ]
  },
  {
   "cell_type": "code",
   "execution_count": 15,
   "id": "d3150954-3536-4155-b06e-d31c5c6eb519",
   "metadata": {},
   "outputs": [
    {
     "name": "stdout",
     "output_type": "stream",
     "text": [
      "Test Accuracy: 0.8077\n"
     ]
    }
   ],
   "source": [
    "y_test_pred = xgb_model.predict(X_test)\n",
    "test_accuracy = accuracy_score(y_test, y_test_pred)\n",
    "print(f\"Test Accuracy: {test_accuracy:.4f}\")\n"
   ]
  },
  {
   "cell_type": "code",
   "execution_count": 16,
   "id": "29aaaf2b-aef0-4601-abba-4ec9ce5b533c",
   "metadata": {},
   "outputs": [
    {
     "name": "stdout",
     "output_type": "stream",
     "text": [
      "Best Parameters: {'learning_rate': 0.2, 'max_depth': 3, 'n_estimators': 200}\n"
     ]
    }
   ],
   "source": [
    "from sklearn.model_selection import GridSearchCV\n",
    "\n",
    "param_grid = {\n",
    "    'max_depth': [3, 5, 7],\n",
    "    'learning_rate': [0.01, 0.1, 0.2],\n",
    "    'n_estimators': [50, 100, 200]\n",
    "}\n",
    "\n",
    "grid_search = GridSearchCV(XGBClassifier(random_state=42), param_grid, cv=3, scoring='accuracy')\n",
    "grid_search.fit(X_train, y_train)\n",
    "\n",
    "print(f\"Best Parameters: {grid_search.best_params_}\")\n"
   ]
  },
  {
   "cell_type": "code",
   "execution_count": 18,
   "id": "82eaef61-440e-4d2d-b466-e9723e500948",
   "metadata": {},
   "outputs": [
    {
     "data": {
      "image/png": "[encoded data removed]",
      "text/plain": [
       "<Figure size 800x600 with 1 Axes>"
      ]
     },
     "metadata": {},
     "output_type": "display_data"
    }
   ],
   "source": [
    "from sklearn.metrics import roc_auc_score, roc_curve\n",
    "import matplotlib.pyplot as plt\n",
    "\n",
    "# Compute probabilities and AUC for the test set\n",
    "y_test_proba = xgb_model.predict_proba(X_test)[:, 1]  # Get probability for the positive class\n",
    "roc_auc = roc_auc_score(y_test, y_test_proba)\n",
    "\n",
    "# Calculate False Positive Rate (FPR) and True Positive Rate (TPR)\n",
    "fpr, tpr, thresholds = roc_curve(y_test, y_test_proba)\n",
    "\n",
    "# Plot the ROC Curve\n",
    "plt.figure(figsize=(8, 6))\n",
    "plt.plot(fpr, tpr, label=f'ROC Curve (AUC = {roc_auc:.2f})')\n",
    "plt.plot([0, 1], [0, 1], 'k--', label='Random Classifier')  # Random classifier line\n",
    "plt.xlabel('False Positive Rate')\n",
    "plt.ylabel('True Positive Rate')\n",
    "plt.title('ROC Curve for XGBoost Model')\n",
    "plt.legend(loc='lower right')\n",
    "plt.grid()\n",
    "plt.show()\n"
   ]
  },
  {
   "cell_type": "code",
   "execution_count": null,
   "id": "d9dd9492-185d-4300-85b4-56cd438c7bb2",
   "metadata": {},
   "outputs": [],
   "source": []
  }
 ],
 "metadata": {
  "kernelspec": {
   "display_name": "Python 3 (ipykernel)",
   "language": "python",
   "name": "python3"
  },
  "language_info": {
   "codemirror_mode": {
    "name": "ipython",
    "version": 3
   },
   "file_extension": ".py",
   "mimetype": "text/x-python",
   "name": "python",
   "nbconvert_exporter": "python",
   "pygments_lexer": "ipython3",
   "version": "3.12.2"
  }
 },
 "nbformat": 4,
 "nbformat_minor": 5
}
